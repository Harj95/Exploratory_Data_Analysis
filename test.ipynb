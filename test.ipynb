{
 "cells": [
  {
   "cell_type": "code",
   "execution_count": null,
   "metadata": {},
   "outputs": [],
   "source": [
    "import pandas as pd\n",
    "from data_transform import DataTransform\n",
    "\n",
    "df = pd.read_csv('your_data.csv')\n",
    "\n",
    "data_transformer = DataTransform(df)\n",
    "\n",
    "data_transformer.convert_to_numeric('numeric_column')\n",
    "data_transformer.convert_to_datetime('date_column')\n",
    "data_transformer.drop_missing_values()\n",
    "data_transformer.uppercase_column('text_column')\n",
    "\n",
    "transformed_df = data_transformer.dataframe"
   ]
  },
  {
   "cell_type": "code",
   "execution_count": null,
   "metadata": {},
   "outputs": [],
   "source": [
    "from plotter import Plotter\n",
    "from data_frame_transform import DataFrameTransform\n",
    "\n",
    "df_transform = DataFrameTransform(df)\n",
    "\n",
    "null_counts_before = df_transform.check_nulls()\n",
    "print(\"NULL counts before dropping columns:\")\n",
    "print(null_counts_before)\n",
    "\n",
    "columns_to_drop = ['column1', 'column2']\n",
    "df_transform.drop_columns(columns_to_drop)\n",
    "\n",
    "columns_to_impute = ['column3', 'column4']\n",
    "for column in columns_to_impute:\n",
    "    df_transform.impute_nulls(column, strategy='median')\n",
    "\n",
    "null_counts_after = df_transform.check_nulls()\n",
    "print(\"\\nNULL counts after imputation:\")\n",
    "print(null_counts_after)\n",
    "\n",
    "plotter = Plotter()\n",
    "plotter.visualize_nulls(df_transform.dataframe)\n"
   ]
  },
  {
   "cell_type": "code",
   "execution_count": null,
   "metadata": {},
   "outputs": [],
   "source": [
    "from plotter import Plotter\n",
    "from data_frame_transform import DataFrameTransform\n",
    "\n",
    "df_transform = DataFrameTransform(df)\n",
    "\n",
    "skewed_columns = df_transform.identify_skewed_columns(skew_threshold=1)\n",
    "print(\"Skewed columns:\", skewed_columns)\n",
    "\n",
    "plotter = Plotter()\n",
    "for column in skewed_columns:\n",
    "    plotter.visualize_skew(df_transform.dataframe, column)"
   ]
  },
  {
   "cell_type": "code",
   "execution_count": null,
   "metadata": {},
   "outputs": [],
   "source": [
    "from plotter import Plotter\n",
    "from data_frame_transform import DataFrameTransform\n",
    "\n",
    "df_transform = DataFrameTransform(df)\n",
    "\n",
    "df_transform.skewed_columns = ['skewed_column1', 'skewed_column2']  # Update with your identified skewed columns\n",
    "df_transform.transform_skewed_columns(method='log1p')\n",
    "\n",
    "plotter = Plotter()\n",
    "for column in df_transform.skewed_columns:\n",
    "    plotter.visualize_skew(df_transform.dataframe, column)"
   ]
  },
  {
   "cell_type": "code",
   "execution_count": null,
   "metadata": {},
   "outputs": [],
   "source": [
    "df_transform.save_copy('original_data.csv')  # Save the original DataFrame\n",
    "df_transform.save_copy('transformed_data.csv')  # Save the DataFrame after transformations"
   ]
  },
  {
   "cell_type": "code",
   "execution_count": null,
   "metadata": {},
   "outputs": [],
   "source": [
    "from plotter import Plotter\n",
    "from data_frame_transform import DataFrameTransform\n",
    "\n",
    "df_transform = DataFrameTransform(df)\n",
    "\n",
    "outlier_columns = ['column1', 'column2']  # Update with your columns of interest\n",
    "plotter = Plotter()\n",
    "for column in outlier_columns:\n",
    "    plotter.visualize_outliers(df_transform.dataframe, column)"
   ]
  },
  {
   "cell_type": "code",
   "execution_count": null,
   "metadata": {},
   "outputs": [],
   "source": [
    "from plotter import Plotter\n",
    "from data_frame_transform import DataFrameTransform\n",
    "\n",
    "df_transform = DataFrameTransform(df)\n",
    "\n",
    "outlier_columns = ['column1', 'column2']  # Update with your columns of interest\n",
    "for column in outlier_columns:\n",
    "    df_transform.remove_outliers(column, method='z-score', threshold=3)\n",
    "\n",
    "plotter = Plotter()\n",
    "for column in outlier_columns:\n",
    "    plotter.visualize_outliers(df_transform.dataframe, column)"
   ]
  },
  {
   "cell_type": "code",
   "execution_count": null,
   "metadata": {},
   "outputs": [],
   "source": [
    "from plotter import Plotter\n",
    "\n",
    "plotter = Plotter()\n",
    "plotter.visualize_correlation(df)"
   ]
  },
  {
   "cell_type": "code",
   "execution_count": null,
   "metadata": {},
   "outputs": [],
   "source": [
    "from data_frame_transform import DataFrameTransform\n",
    "\n",
    "df_transform = DataFrameTransform(df)\n",
    "\n",
    "highly_correlated_columns = df_transform.identify_highly_correlated_columns(threshold=0.8)\n",
    "print(\"Highly correlated columns:\", highly_correlated_columns)"
   ]
  },
  {
   "cell_type": "code",
   "execution_count": null,
   "metadata": {},
   "outputs": [],
   "source": [
    "from data_frame_transform import DataFrameTransform\n",
    "\n",
    "df_transform = DataFrameTransform(df)\n",
    "\n",
    "df_transform.remove_highly_correlated_columns(threshold=0.8)"
   ]
  }
 ],
 "metadata": {
  "kernelspec": {
   "display_name": "Python 3",
   "language": "python",
   "name": "python3"
  },
  "language_info": {
   "codemirror_mode": {
    "name": "ipython",
    "version": 3
   },
   "file_extension": ".py",
   "mimetype": "text/x-python",
   "name": "python",
   "nbconvert_exporter": "python",
   "pygments_lexer": "ipython3",
   "version": "3.10.0"
  }
 },
 "nbformat": 4,
 "nbformat_minor": 2
}
